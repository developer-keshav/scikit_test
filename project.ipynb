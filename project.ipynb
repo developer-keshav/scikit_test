{
 "cells": [
  {
   "cell_type": "code",
   "execution_count": 60,
   "metadata": {},
   "outputs": [],
   "source": [
    "import requests\n",
    "from bs4 import BeautifulSoup\n",
    "import pandas as pd\n",
    "import sys\n",
    "from fuzzywuzzy import fuzz\n",
    "from fuzzywuzzy import process\n",
    "from sklearn.svm import SVC  \n",
    "from sklearn.preprocessing import LabelEncoder\n",
    "from sklearn.preprocessing import LabelBinarizer\n",
    "from sklearn import linear_model\n",
    "from sklearn.metrics import roc_auc_score\n",
    "import numpy as np\n",
    "from sklearn import utils\n",
    "from sklearn.metrics import mean_absolute_error\n",
    "from sklearn.metrics import r2_score\n",
    "sys.setrecursionlimit(60000)"
   ]
  },
  {
   "cell_type": "code",
   "execution_count": 2,
   "metadata": {
    "collapsed": true
   },
   "outputs": [],
   "source": [
    "page = requests.get('https://archive.ics.uci.edu/ml/machine-learning-databases/movies-mld/data/main.html')\n"
   ]
  },
  {
   "cell_type": "code",
   "execution_count": 3,
   "metadata": {
    "collapsed": true
   },
   "outputs": [],
   "source": [
    "soup = BeautifulSoup(page.text,'html.parser')"
   ]
  },
  {
   "cell_type": "code",
   "execution_count": 4,
   "metadata": {
    "collapsed": true
   },
   "outputs": [],
   "source": [
    "alltab = soup.find_all('table')\n"
   ]
  },
  {
   "cell_type": "code",
   "execution_count": 45,
   "metadata": {
    "collapsed": true,
    "scrolled": false
   },
   "outputs": [],
   "source": [
    "A = []\n",
    "B = []\n",
    "C = []\n",
    "D = [] \n",
    "E = []\n",
    "q = []\n",
    "r = []\n",
    "s = []\n",
    "t = []\n",
    "u = []\n",
    "v = []\n",
    "for n in range(len(alltab)):\n",
    "    \n",
    "  \n",
    "    strhe = alltab[n].findAll('th') \n",
    "    if len(strhe) > 11:\n",
    "        F = alltab[n].findAll('th')[0].contents[0]\n",
    "        G = alltab[n].findAll('th')[1].contents[0]\n",
    "        H = alltab[n].findAll('th')[2].contents[0]\n",
    "        I = alltab[n].findAll('th')[3].contents[0]\n",
    "        J = alltab[n].findAll('th')[4].contents[0]\n",
    "        k = alltab[n].findAll('th')[5].contents[0]  \n",
    "        l = alltab[n].findAll('th')[6].contents[0]\n",
    "        m = alltab[n].findAll('th')[8].contents[0]\n",
    "        w = alltab[n].findAll('th')[9].contents[0]\n",
    "        o = alltab[n].findAll('th')[10].contents[0]\n",
    "        p = alltab[n].findAll('th')[11].contents[0]\n",
    "    \n",
    "        \n",
    "     \n",
    "    \n",
    "    for row in alltab[n].findAll(\"tr\"):\n",
    "        cells = row.findAll('td')   \n",
    "        if len(cells) > 11:\n",
    "            A.append(cells[0].find(text=True))\n",
    "            B.append(cells[1].find(text=True))\n",
    "            C.append(cells[2].find(text=True))\n",
    "            D.append(cells[3].find(text=True))\n",
    "            E.append(cells[4].find(text=True))\n",
    "            q.append(cells[5].find(text=True))\n",
    "            r.append(cells[6].find(text=True))\n",
    "            s.append(cells[7].find(text=True))\n",
    "            t.append(cells[8].find(text=True))\n",
    "            u.append(cells[9].find(text=True))\n",
    "            v.append(cells[10].find(text=True))\n",
    "\n",
    "    df=pd.DataFrame(A,columns=[F])\n",
    "    df['Title']=B\n",
    "    df[H]=C\n",
    "    df[I]=D\n",
    "    df[J]=E\n",
    "    df[k]=q\n",
    "    df[l]=r\n",
    "    df[m]=s\n",
    "    df[w]=t\n",
    "    df[o]=u\n",
    "    df[p]=v\n",
    "\n",
    "#display(df)"
   ]
  },
  {
   "cell_type": "code",
   "execution_count": 55,
   "metadata": {
    "scrolled": false
   },
   "outputs": [],
   "source": [
    "Mov = pd.read_csv('/home/o2i/Documents/imdb-data-from-2006-to-2016/IMDB-Movie-Data.csv')\n",
    "#Mov"
   ]
  },
  {
   "cell_type": "code",
   "execution_count": 56,
   "metadata": {
    "collapsed": true
   },
   "outputs": [],
   "source": [
    "le = LabelEncoder()\n",
    "lb = LabelBinarizer()"
   ]
  },
  {
   "cell_type": "code",
   "execution_count": 57,
   "metadata": {},
   "outputs": [
    {
     "name": "stdout",
     "output_type": "stream",
     "text": [
      "0.528770053553\n",
      "0.33364988289\n",
      "0.286\n"
     ]
    }
   ],
   "source": [
    "X = le.fit_transform(Mov.Title)\n",
    "Y = Mov['Rating'].astype('int')\n",
    "\n",
    "\n",
    "Z = X.reshape(-1,1)\n",
    "\n",
    "\n",
    "clf = SVC()\n",
    "\n",
    "clf.fit(Z,Y)\n",
    "\n",
    "\n",
    "yclf_test = clf.predict(Z)\n",
    "\n",
    "\n",
    "\n",
    "\n",
    "Y_p = np.array(Y)\n",
    "\n",
    "y_t = lb.fit_transform(yclf_test)\n",
    "\n",
    "Y_p = lb.fit_transform(Y_p)\n",
    "\n",
    "\n",
    "print (roc_auc_score(Y_p, y_t))\n",
    "\n",
    "print(r2_score(Y, y_test))\n",
    "\n",
    "print(mean_absolute_error(Y, y_test))\n",
    "\n",
    "\n"
   ]
  },
  {
   "cell_type": "code",
   "execution_count": 62,
   "metadata": {},
   "outputs": [
    {
     "name": "stdout",
     "output_type": "stream",
     "text": [
      "0.5\n",
      "0.0\n",
      "0.79702\n"
     ]
    }
   ],
   "source": [
    "\n",
    "X = le.fit_transform(Mov.Title)\n",
    "Y = Mov['Rating'].astype('int')\n",
    "\n",
    "\n",
    "Z = X.reshape(-1,1)\n",
    "\n",
    "reg = linear_model.LassoLars(alpha=.1)\n",
    "\n",
    "reg.fit(Z,Y) \n",
    "\n",
    "yreg_test = reg.predict(Z)\n",
    "\n",
    "\n",
    "\n",
    "Yr_p = np.array(Y)\n",
    "\n",
    "\n",
    "\n",
    "yreg_test = yreg_test.reshape(-1,1)\n",
    "\n",
    "Yr_p = lb.fit_transform(Yr_p)\n",
    "\n",
    "\n",
    "print (roc_auc_score(Yr_p, yreg_test))\n",
    "\n",
    "print(r2_score(Y, yreg_test))\n",
    "\n",
    "print(mean_absolute_error(Y, yreg_test))\n"
   ]
  },
  {
   "cell_type": "code",
   "execution_count": 63,
   "metadata": {},
   "outputs": [
    {
     "name": "stdout",
     "output_type": "stream",
     "text": [
      "Result from SVM for multiclass prediction : [7]\n",
      "Result from LARS Lasso : [ 6.282]\n",
      "Result from SVM for multiclass prediction : [6]\n",
      "Result from LARS Lasso : [ 6.282]\n",
      "Result from SVM for multiclass prediction : [5]\n",
      "Result from LARS Lasso : [ 6.282]\n",
      "Result from SVM for multiclass prediction : [6]\n",
      "Result from LARS Lasso : [ 6.282]\n",
      "Result from SVM for multiclass prediction : [6]\n",
      "Result from LARS Lasso : [ 6.282]\n"
     ]
    }
   ],
   "source": [
    "def movie_rating(name):\n",
    "    \n",
    "    A = name\n",
    "    n=0\n",
    "    s = process.extract(A,Mov.Title)\n",
    "    d = [0] * len(s)\n",
    "    for n in range(len(s)):\n",
    "        d[n] = s[n][0]\n",
    "        \n",
    "    \n",
    "   \n",
    "    for n in range(len(d)):\n",
    "        for ih in range(len(Mov.Title)):\n",
    "            if d[n] == Mov.Title[ih]:\n",
    "                print('Result from SVM for multiclass prediction :',clf.predict(X[ih]))\n",
    "                print('Result from LARS Lasso :',reg.predict(X[ih]))\n",
    "                \n",
    "\n",
    "    "
   ]
  },
  {
   "cell_type": "code",
   "execution_count": null,
   "metadata": {
    "collapsed": true
   },
   "outputs": [],
   "source": [
    "movie_rating('Gladiator')"
   ]
  }
 ],
 "metadata": {
  "kernelspec": {
   "display_name": "Python 3",
   "language": "python",
   "name": "python3"
  },
  "language_info": {
   "codemirror_mode": {
    "name": "ipython",
    "version": 3
   },
   "file_extension": ".py",
   "mimetype": "text/x-python",
   "name": "python",
   "nbconvert_exporter": "python",
   "pygments_lexer": "ipython3",
   "version": "3.6.3"
  }
 },
 "nbformat": 4,
 "nbformat_minor": 2
}
